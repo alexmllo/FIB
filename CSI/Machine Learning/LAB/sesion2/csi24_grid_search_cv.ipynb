{
 "cells": [
  {
   "cell_type": "markdown",
   "metadata": {},
   "source": [
    "### Grid Search for Hyperparameter tuning\n",
    "\n",
    "Hyperparameters are those parameters that are not fit by the learning algorithm\n",
    "Examples are: k in k-NN, alpha in Lasso or Ridge regression"
   ]
  },
  {
   "cell_type": "code",
   "execution_count": 34,
   "metadata": {
    "collapsed": true,
    "jupyter": {
     "outputs_hidden": true
    }
   },
   "outputs": [],
   "source": [
    "import numpy as np\n",
    "from sklearn import datasets\n",
    "from sklearn.linear_model import Ridge\n",
    "from sklearn.model_selection import GridSearchCV, train_test_split\n",
    "import warnings\n",
    "warnings.filterwarnings('ignore')"
   ]
  },
  {
   "cell_type": "code",
   "execution_count": 35,
   "metadata": {
    "collapsed": true,
    "jupyter": {
     "outputs_hidden": true
    }
   },
   "outputs": [],
   "source": [
    "# load the diabetes datasets\n",
    "dataset = datasets.load_diabetes()"
   ]
  },
  {
   "cell_type": "code",
   "execution_count": 36,
   "metadata": {},
   "outputs": [
    {
     "name": "stdout",
     "output_type": "stream",
     "text": [
      "GridSearchCV(cv=10, error_score='raise-deprecating',\n",
      "       estimator=Ridge(alpha=1.0, copy_X=True, fit_intercept=True, max_iter=None,\n",
      "   normalize=False, random_state=None, solver='auto', tol=0.001),\n",
      "       fit_params=None, iid='warn', n_jobs=None,\n",
      "       param_grid={'alpha': array([1.e+00, 1.e-01, 1.e-02, 1.e-03, 1.e-04, 0.e+00])},\n",
      "       pre_dispatch='2*n_jobs', refit=True, return_train_score='warn',\n",
      "       scoring=None, verbose=0)\n",
      "0.45228554633151447\n",
      "0.1\n"
     ]
    }
   ],
   "source": [
    "# prepare a range of alpha values to test\n",
    "alphas = np.array([1,0.1,0.01,0.001,0.0001,0])\n",
    "\n",
    "# split into train and test as usual..\n",
    "X_train, X_test, y_train, y_test = train_test_split(dataset.data, dataset.target)\n",
    "\n",
    "# create and fit a ridge regression model, testing each alpha\n",
    "grid = GridSearchCV(estimator=Ridge(), param_grid=dict(alpha=alphas), cv=10)\n",
    "grid.fit(X_train, y_train)\n",
    "print(grid)\n",
    "\n",
    "# summarize the results of the grid search\n",
    "print(grid.best_score_)\n",
    "print(grid.best_estimator_.alpha)"
   ]
  },
  {
   "cell_type": "code",
   "execution_count": 37,
   "metadata": {},
   "outputs": [
    {
     "name": "stdout",
     "output_type": "stream",
     "text": [
      "0.5431806275336672\n"
     ]
    }
   ],
   "source": [
    "# fit ridge regression model with the \"winning\" alpha on the whole training set, and evaluate generalization\n",
    "model = Ridge(alpha=grid.best_estimator_.alpha).fit(X_train, y_train)\n",
    "print(model.score(X_test, y_test))"
   ]
  },
  {
   "cell_type": "code",
   "execution_count": 40,
   "metadata": {},
   "outputs": [
    {
     "name": "stdout",
     "output_type": "stream",
     "text": [
      "Score in test set: 0.4909482805360534, score for best alpha: 0.4711316861152287, best alpha: 0.1\n",
      "Score in test set: 0.3109135373186812, score for best alpha: 0.5040246783070401, best alpha: 0.001\n",
      "Score in test set: 0.45230818858846766, score for best alpha: 0.49585974555356416, best alpha: 0.1\n",
      "Score in test set: 0.45980733696052867, score for best alpha: 0.45636010187621906, best alpha: 0.1\n",
      "Score in test set: 0.44628314662993207, score for best alpha: 0.46339673144615495, best alpha: 0.1\n",
      "Score in test set: 0.5325615697967685, score for best alpha: 0.43756609133876745, best alpha: 0.01\n",
      "Score in test set: 0.4678373698731677, score for best alpha: 0.4538549409597279, best alpha: 0.0\n",
      "Score in test set: 0.3701944681103192, score for best alpha: 0.4940019735897996, best alpha: 0.1\n",
      "Score in test set: 0.5732949148134888, score for best alpha: 0.44727485364793973, best alpha: 0.1\n",
      "Score in test set: 0.5476920860209818, score for best alpha: 0.4492667184289, best alpha: 0.1\n"
     ]
    }
   ],
   "source": [
    "### Repeat a bunch of times and see the result\n",
    "for x in range(10):\n",
    "    X_train, X_test, y_train, y_test = train_test_split(dataset.data, dataset.target)\n",
    "    grid = GridSearchCV(estimator=Ridge(), param_grid=dict(alpha=alphas), cv=10)\n",
    "    grid.fit(X_train, y_train)\n",
    "    model = Ridge(alpha=grid.best_estimator_.alpha).fit(X_train, y_train)\n",
    "    print(\"Score in test set: {}, score for best alpha: {}, best alpha: {}\".format(model.score(X_test, y_test), #\n",
    "                                        grid.best_score_, grid.best_estimator_.alpha))"
   ]
  },
  {
   "cell_type": "code",
   "execution_count": null,
   "metadata": {
    "collapsed": true,
    "jupyter": {
     "outputs_hidden": true
    }
   },
   "outputs": [],
   "source": []
  },
  {
   "cell_type": "code",
   "execution_count": null,
   "metadata": {
    "collapsed": true,
    "jupyter": {
     "outputs_hidden": true
    }
   },
   "outputs": [],
   "source": []
  }
 ],
 "metadata": {
  "kernelspec": {
   "display_name": "Python 3 (ipykernel)",
   "language": "python",
   "name": "python3"
  },
  "language_info": {
   "codemirror_mode": {
    "name": "ipython",
    "version": 3
   },
   "file_extension": ".py",
   "mimetype": "text/x-python",
   "name": "python",
   "nbconvert_exporter": "python",
   "pygments_lexer": "ipython3",
   "version": "3.12.4"
  }
 },
 "nbformat": 4,
 "nbformat_minor": 4
}
