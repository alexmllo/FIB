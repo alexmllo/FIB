{
 "cells": [
  {
   "cell_type": "markdown",
   "metadata": {},
   "source": [
    "## Effect on minmax scaling on regression in three of its variants (ordinary least squares, ridge and lasso)"
   ]
  },
  {
   "cell_type": "code",
   "execution_count": 1,
   "metadata": {},
   "outputs": [],
   "source": [
    "import warnings\n",
    "warnings.filterwarnings('ignore')\n",
    "import pandas as pd\n",
    "from sklearn import datasets"
   ]
  },
  {
   "cell_type": "markdown",
   "metadata": {},
   "source": [
    "### load data"
   ]
  },
  {
   "cell_type": "code",
   "execution_count": 2,
   "metadata": {},
   "outputs": [],
   "source": [
    "murders = pd.read_csv('data/murders.txt', sep=\" \")\n",
    "attributes = ['inhabitants','income','unemployment']\n",
    "X = murders[attributes]\n",
    "y = murders['murders']"
   ]
  },
  {
   "cell_type": "code",
   "execution_count": 3,
   "metadata": {},
   "outputs": [
    {
     "data": {
      "text/html": [
       "<div>\n",
       "<style scoped>\n",
       "    .dataframe tbody tr th:only-of-type {\n",
       "        vertical-align: middle;\n",
       "    }\n",
       "\n",
       "    .dataframe tbody tr th {\n",
       "        vertical-align: top;\n",
       "    }\n",
       "\n",
       "    .dataframe thead th {\n",
       "        text-align: right;\n",
       "    }\n",
       "</style>\n",
       "<table border=\"1\" class=\"dataframe\">\n",
       "  <thead>\n",
       "    <tr style=\"text-align: right;\">\n",
       "      <th></th>\n",
       "      <th>inhabitants</th>\n",
       "      <th>income</th>\n",
       "      <th>unemployment</th>\n",
       "    </tr>\n",
       "  </thead>\n",
       "  <tbody>\n",
       "    <tr>\n",
       "      <th>0</th>\n",
       "      <td>587</td>\n",
       "      <td>16.5</td>\n",
       "      <td>6.2</td>\n",
       "    </tr>\n",
       "    <tr>\n",
       "      <th>1</th>\n",
       "      <td>643</td>\n",
       "      <td>20.5</td>\n",
       "      <td>6.4</td>\n",
       "    </tr>\n",
       "    <tr>\n",
       "      <th>2</th>\n",
       "      <td>635</td>\n",
       "      <td>26.3</td>\n",
       "      <td>9.3</td>\n",
       "    </tr>\n",
       "    <tr>\n",
       "      <th>3</th>\n",
       "      <td>692</td>\n",
       "      <td>16.5</td>\n",
       "      <td>5.3</td>\n",
       "    </tr>\n",
       "    <tr>\n",
       "      <th>4</th>\n",
       "      <td>1248</td>\n",
       "      <td>19.2</td>\n",
       "      <td>7.3</td>\n",
       "    </tr>\n",
       "  </tbody>\n",
       "</table>\n",
       "</div>"
      ],
      "text/plain": [
       "   inhabitants  income  unemployment\n",
       "0          587    16.5           6.2\n",
       "1          643    20.5           6.4\n",
       "2          635    26.3           9.3\n",
       "3          692    16.5           5.3\n",
       "4         1248    19.2           7.3"
      ]
     },
     "execution_count": 3,
     "metadata": {},
     "output_type": "execute_result"
    }
   ],
   "source": [
    "X.head()"
   ]
  },
  {
   "cell_type": "markdown",
   "metadata": {},
   "source": [
    "### split into train and test .."
   ]
  },
  {
   "cell_type": "code",
   "execution_count": 4,
   "metadata": {},
   "outputs": [
    {
     "name": "stdout",
     "output_type": "stream",
     "text": [
      "(15, 3) (15,)\n",
      "(5, 3) (5,)\n"
     ]
    }
   ],
   "source": [
    "from sklearn.model_selection import train_test_split\n",
    "X_train, X_test, y_train, y_test = train_test_split(X, y, random_state=55)\n",
    "print(X_train.shape, y_train.shape)\n",
    "print(X_test.shape, y_test.shape)"
   ]
  },
  {
   "cell_type": "markdown",
   "metadata": {},
   "source": [
    "### now, scale the training data and apply it to test data\n",
    "(this is to avoid **_leakage_** which is an important concept in machine learning)"
   ]
  },
  {
   "cell_type": "code",
   "execution_count": 5,
   "metadata": {},
   "outputs": [],
   "source": [
    "from sklearn.preprocessing import MinMaxScaler\n",
    "scaler = MinMaxScaler()\n",
    "scaler.fit(X_train)\n",
    "X_train_scaled = scaler.transform(X_train)\n",
    "X_test_scaled = scaler.transform(X_test)"
   ]
  },
  {
   "cell_type": "markdown",
   "metadata": {},
   "source": [
    "### visualize the transformation of _training_ data .. all values are between 0 and 1"
   ]
  },
  {
   "cell_type": "code",
   "execution_count": 6,
   "metadata": {},
   "outputs": [
    {
     "data": {
      "text/html": [
       "<div>\n",
       "<style scoped>\n",
       "    .dataframe tbody tr th:only-of-type {\n",
       "        vertical-align: middle;\n",
       "    }\n",
       "\n",
       "    .dataframe tbody tr th {\n",
       "        vertical-align: top;\n",
       "    }\n",
       "\n",
       "    .dataframe thead th {\n",
       "        text-align: right;\n",
       "    }\n",
       "</style>\n",
       "<table border=\"1\" class=\"dataframe\">\n",
       "  <thead>\n",
       "    <tr style=\"text-align: right;\">\n",
       "      <th></th>\n",
       "      <th>inhabitants</th>\n",
       "      <th>income</th>\n",
       "      <th>unemployment</th>\n",
       "    </tr>\n",
       "  </thead>\n",
       "  <tbody>\n",
       "    <tr>\n",
       "      <th>0</th>\n",
       "      <td>0.017226</td>\n",
       "      <td>0.250000</td>\n",
       "      <td>0.432432</td>\n",
       "    </tr>\n",
       "    <tr>\n",
       "      <th>1</th>\n",
       "      <td>1.000000</td>\n",
       "      <td>0.309524</td>\n",
       "      <td>0.243243</td>\n",
       "    </tr>\n",
       "    <tr>\n",
       "      <th>2</th>\n",
       "      <td>0.121034</td>\n",
       "      <td>1.000000</td>\n",
       "      <td>0.918919</td>\n",
       "    </tr>\n",
       "    <tr>\n",
       "      <th>3</th>\n",
       "      <td>0.151405</td>\n",
       "      <td>0.702381</td>\n",
       "      <td>1.000000</td>\n",
       "    </tr>\n",
       "    <tr>\n",
       "      <th>4</th>\n",
       "      <td>0.047597</td>\n",
       "      <td>0.000000</td>\n",
       "      <td>0.108108</td>\n",
       "    </tr>\n",
       "  </tbody>\n",
       "</table>\n",
       "</div>"
      ],
      "text/plain": [
       "   inhabitants    income  unemployment\n",
       "0     0.017226  0.250000      0.432432\n",
       "1     1.000000  0.309524      0.243243\n",
       "2     0.121034  1.000000      0.918919\n",
       "3     0.151405  0.702381      1.000000\n",
       "4     0.047597  0.000000      0.108108"
      ]
     },
     "execution_count": 6,
     "metadata": {},
     "output_type": "execute_result"
    }
   ],
   "source": [
    "pd.DataFrame(data = X_train_scaled, columns = list(X)).head()"
   ]
  },
  {
   "cell_type": "markdown",
   "metadata": {},
   "source": [
    "### visualize the transformation of _test_ data .. values can be outside [0,1] range !!!"
   ]
  },
  {
   "cell_type": "code",
   "execution_count": 7,
   "metadata": {
    "scrolled": true
   },
   "outputs": [
    {
     "data": {
      "text/html": [
       "<div>\n",
       "<style scoped>\n",
       "    .dataframe tbody tr th:only-of-type {\n",
       "        vertical-align: middle;\n",
       "    }\n",
       "\n",
       "    .dataframe tbody tr th {\n",
       "        vertical-align: top;\n",
       "    }\n",
       "\n",
       "    .dataframe thead th {\n",
       "        text-align: right;\n",
       "    }\n",
       "</style>\n",
       "<table border=\"1\" class=\"dataframe\">\n",
       "  <thead>\n",
       "    <tr style=\"text-align: right;\">\n",
       "      <th></th>\n",
       "      <th>inhabitants</th>\n",
       "      <th>income</th>\n",
       "      <th>unemployment</th>\n",
       "    </tr>\n",
       "  </thead>\n",
       "  <tbody>\n",
       "    <tr>\n",
       "      <th>0</th>\n",
       "      <td>0.299637</td>\n",
       "      <td>0.321429</td>\n",
       "      <td>0.648649</td>\n",
       "    </tr>\n",
       "    <tr>\n",
       "      <th>1</th>\n",
       "      <td>1.253853</td>\n",
       "      <td>0.047619</td>\n",
       "      <td>0.486486</td>\n",
       "    </tr>\n",
       "    <tr>\n",
       "      <th>2</th>\n",
       "      <td>0.021759</td>\n",
       "      <td>1.166667</td>\n",
       "      <td>1.189189</td>\n",
       "    </tr>\n",
       "    <tr>\n",
       "      <th>3</th>\n",
       "      <td>0.073436</td>\n",
       "      <td>-0.261905</td>\n",
       "      <td>0.405405</td>\n",
       "    </tr>\n",
       "    <tr>\n",
       "      <th>4</th>\n",
       "      <td>3.312783</td>\n",
       "      <td>0.190476</td>\n",
       "      <td>0.297297</td>\n",
       "    </tr>\n",
       "  </tbody>\n",
       "</table>\n",
       "</div>"
      ],
      "text/plain": [
       "   inhabitants    income  unemployment\n",
       "0     0.299637  0.321429      0.648649\n",
       "1     1.253853  0.047619      0.486486\n",
       "2     0.021759  1.166667      1.189189\n",
       "3     0.073436 -0.261905      0.405405\n",
       "4     3.312783  0.190476      0.297297"
      ]
     },
     "execution_count": 7,
     "metadata": {},
     "output_type": "execute_result"
    }
   ],
   "source": [
    "pd.DataFrame(data = X_test_scaled, columns = list(X)).head()"
   ]
  },
  {
   "cell_type": "markdown",
   "metadata": {},
   "source": [
    "### now, apply regression _with_ and _without_ scaling"
   ]
  },
  {
   "cell_type": "code",
   "execution_count": 8,
   "metadata": {},
   "outputs": [],
   "source": [
    "alpha = 1\n",
    "from sklearn.linear_model import LinearRegression, Ridge, Lasso\n",
    "ols = LinearRegression().fit(X_train, y_train)\n",
    "lasso = Lasso(alpha = alpha).fit(X_train, y_train)\n",
    "ridge = Ridge(alpha = alpha).fit(X_train, y_train)\n",
    "ols_scaled = LinearRegression().fit(X_train_scaled, y_train)\n",
    "lasso_scaled = Lasso(alpha = alpha).fit(X_train_scaled, y_train)\n",
    "ridge_scaled = Ridge(alpha = alpha).fit(X_train_scaled, y_train)"
   ]
  },
  {
   "cell_type": "code",
   "execution_count": 9,
   "metadata": {},
   "outputs": [
    {
     "name": "stdout",
     "output_type": "stream",
     "text": [
      "model    \ttrain\ttest\n",
      "\n",
      "ols      \t0.8387\t0.3677\n",
      "lasso    \t0.8238\t0.4810\n",
      "ridge    \t0.8375\t0.4169\n",
      "\n",
      "ols_sc  \t0.8387\t0.3677\n",
      "lasso_sc\t0.6830\t0.5992\n",
      "ridge_sc\t0.7765\t0.6137\n"
     ]
    }
   ],
   "source": [
    "print (\"model    \\ttrain\\ttest\")\n",
    "print()\n",
    "print(\"ols      \\t{:.4f}\\t{:.4f}\".format(ols.score(X_train, y_train), ols.score(X_test, y_test)))\n",
    "print(\"lasso    \\t{:.4f}\\t{:.4f}\".format(lasso.score(X_train, y_train), lasso.score(X_test, y_test)))\n",
    "print(\"ridge    \\t{:.4f}\\t{:.4f}\".format(ridge.score(X_train, y_train), ridge.score(X_test, y_test)))\n",
    "print()\n",
    "print(\"ols_sc  \\t{:.4f}\\t{:.4f}\".format(ols_scaled.score(X_train_scaled, y_train), ols_scaled.score(X_test_scaled, y_test)))\n",
    "print(\"lasso_sc\\t{:.4f}\\t{:.4f}\".format(lasso_scaled.score(X_train_scaled, y_train), lasso_scaled.score(X_test_scaled, y_test)))\n",
    "print(\"ridge_sc\\t{:.4f}\\t{:.4f}\".format(ridge_scaled.score(X_train_scaled, y_train), ridge_scaled.score(X_test_scaled, y_test)))\n",
    "\n"
   ]
  },
  {
   "cell_type": "code",
   "execution_count": null,
   "metadata": {
    "collapsed": true,
    "jupyter": {
     "outputs_hidden": true
    }
   },
   "outputs": [],
   "source": [
    "\n"
   ]
  }
 ],
 "metadata": {
  "kernelspec": {
   "display_name": "Python 3 (ipykernel)",
   "language": "python",
   "name": "python3"
  },
  "language_info": {
   "codemirror_mode": {
    "name": "ipython",
    "version": 3
   },
   "file_extension": ".py",
   "mimetype": "text/x-python",
   "name": "python",
   "nbconvert_exporter": "python",
   "pygments_lexer": "ipython3",
   "version": "3.12.4"
  }
 },
 "nbformat": 4,
 "nbformat_minor": 4
}
