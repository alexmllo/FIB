{
 "cells": [
  {
   "cell_type": "markdown",
   "metadata": {},
   "source": [
    "# Encontrar nÃºmero de clusters Ã³ptimo"
   ]
  },
  {
   "cell_type": "markdown",
   "metadata": {},
   "source": [
    "En este notebook se os indicarÃ¡n los pasos a seguir para encontrar el nÃºmero de clÃºsters Ã³ptimo segÃºn el mÃ©todo de la silueta. Primero os pongo un ejemplo sencillo y luego encontrarÃ©is un ejercicio que tenÃ©is que resolver durante la sesiÃ³n de laboratorio (o en casa). Este ejercicio no lo voy a evaluar, la idea es que lo resolvÃ¡is vosotros mismos, podÃ©is comparar resultados con compaÃ±eros. Si tenÃ©is alguna duda, por supuesto, me preguntÃ¡is."
   ]
  },
  {
   "cell_type": "markdown",
   "metadata": {},
   "source": [
    "## 0. Importaciones varias necesarias"
   ]
  },
  {
   "cell_type": "code",
   "execution_count": 36,
   "metadata": {
    "collapsed": true
   },
   "outputs": [],
   "source": [
    "import numpy as np\n",
    "import matplotlib.pyplot as plt\n",
    "\n",
    "from sklearn.cluster import KMeans\n",
    "from sklearn.datasets import load_digits, load_iris\n",
    "from sklearn.metrics import silhouette_score, calinski_harabaz_score"
   ]
  },
  {
   "cell_type": "markdown",
   "metadata": {},
   "source": [
    "## 1. Silueta como mecanismo para evaluar un resultado de clustering"
   ]
  },
  {
   "cell_type": "markdown",
   "metadata": {},
   "source": [
    "En este trozo de cÃ³digo se ejecuta KMeans sobre los datos de iris con dos \"k\" diferentes, a elegir por el usuario, y se calcula el valor de la silueta (mÃ©todo de evaluaciÃ³n de clusters) para cada k escogida. Para obtener informaciÃ³n sobre lo que es la silueta, podÃ©is leer la pÃ¡gina de wikipedia https://en.wikipedia.org/wiki/Silhouette_(clustering) o directamente el artÃ­culo que la introdujo: https://doi.org/10.1016/0377-0427(87)90125-7"
   ]
  },
  {
   "cell_type": "code",
   "execution_count": 37,
   "metadata": {},
   "outputs": [
    {
     "name": "stdout",
     "output_type": "stream",
     "text": [
      "silhouette score for 3 clusters: 0.5528; silhouette score for 4 clusters: 0.4981\n",
      "3 clusters are a better option for this dataset\n"
     ]
    }
   ],
   "source": [
    "# load iris data\n",
    "iris = load_iris()\n",
    "\n",
    "# select 2 values for numbers of clusters to compare\n",
    "nc1, nc2 = 3, 4\n",
    "\n",
    "kmeans1 = KMeans(n_clusters = nc1)\n",
    "kmeans1.fit(iris.data)\n",
    "score1 = silhouette_score(iris.data, kmeans1.labels_)\n",
    "kmeans2 = KMeans(n_clusters = nc2)\n",
    "kmeans2.fit(iris.data)\n",
    "score2 = silhouette_score(iris.data, kmeans2.labels_)\n",
    "print(\"silhouette score for {} clusters: {:.4f}; silhouette score for {} clusters: {:.4f}\".format(nc1, score1, nc2, score2))\n",
    "if score1 > score2:\n",
    "    print(\"{} clusters are a better option for this dataset\".format(nc1))\n",
    "else:\n",
    "    print(\"{} clusters are a better option for this dataset\".format(nc2))\n"
   ]
  },
  {
   "cell_type": "markdown",
   "metadata": {},
   "source": [
    "## 2. Lo que tienes que hacer"
   ]
  },
  {
   "cell_type": "markdown",
   "metadata": {},
   "source": [
    "Utiliza el algoritmo de clustering que prefieras para hacer un clustering sobre los datos \"digits\" que puedes obtener con la funciÃ³n `load_digits` de `scikit-learn`. Estos datos son una colecciÃ³n de 1797 imÃ¡genes de 8x8 = 64 pÃ­xeles que representan dÃ­gitos del 0 al 9. Son datos etiquetados con el nÃºmero de la imagen. Cada observaciÃ³n (ejemplo) consta por lo tanto de 64 atributos. Lo que tienes que hacer es:\n",
    "1. Escoge un algoritmo de clustering que te guste\n",
    "2. Optimiza el nÃºmero de clusters sobre este dataset; para ello utiliza una medida como la silueta u otras (una alternativa popular es el Ã­ndice Calinski-Harabaz, por ejemplo)\n",
    "3. Calcula de alguna forma que se te ocurra (cuantitativa) la capacidad de tu clustering para separar en clusters los diferentes dÃ­gitos (del 0 al 9) que representan las imÃ¡genes.\n",
    "4. Haz un plot de los dÃ­gitos con el clustering Ã³ptimo que hayas encontrado. Para hacer la visualizaciÃ³n, utiliza PCA o t-SNE para reducir de 64 a 2 dimensiones."
   ]
  },
  {
   "cell_type": "code",
   "execution_count": 38,
   "metadata": {},
   "outputs": [
    {
     "data": {
      "text/plain": [
       "<Figure size 432x288 with 0 Axes>"
      ]
     },
     "metadata": {},
     "output_type": "display_data"
    },
    {
     "data": {
      "image/png": "[encoded data removed]",
      "text/plain": [
       "<Figure size 288x288 with 1 Axes>"
      ]
     },
     "metadata": {},
     "output_type": "display_data"
    }
   ],
   "source": [
    "%matplotlib inline\n",
    "digits = load_digits()\n",
    "plt.gray()\n",
    "plt.matshow(digits.images[0])\n",
    "X = digits.data\n",
    "y = digits.target"
   ]
  },
  {
   "cell_type": "code",
   "execution_count": 39,
   "metadata": {},
   "outputs": [
    {
     "data": {
      "text/plain": [
       "(1797, 64)"
      ]
     },
     "execution_count": 39,
     "metadata": {},
     "output_type": "execute_result"
    }
   ],
   "source": [
    "X.shape"
   ]
  },
  {
   "cell_type": "code",
   "execution_count": 40,
   "metadata": {},
   "outputs": [
    {
     "data": {
      "text/plain": [
       "(1797,)"
      ]
     },
     "execution_count": 40,
     "metadata": {},
     "output_type": "execute_result"
    }
   ],
   "source": [
    "y.shape"
   ]
  },
  {
   "cell_type": "code",
   "execution_count": null,
   "metadata": {
    "collapsed": true
   },
   "outputs": [],
   "source": []
  }
 ],
 "metadata": {
  "kernelspec": {
   "display_name": "Python 3",
   "language": "python",
   "name": "python3"
  },
  "language_info": {
   "codemirror_mode": {
    "name": "ipython",
    "version": 3
   },
   "file_extension": ".py",
   "mimetype": "text/x-python",
   "name": "python",
   "nbconvert_exporter": "python",
   "pygments_lexer": "ipython3",
   "version": "3.6.2"
  }
 },
 "nbformat": 4,
 "nbformat_minor": 2
}
